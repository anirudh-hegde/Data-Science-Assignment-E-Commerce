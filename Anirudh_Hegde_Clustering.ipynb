{
  "nbformat": 4,
  "nbformat_minor": 0,
  "metadata": {
    "colab": {
      "provenance": []
    },
    "kernelspec": {
      "name": "python3",
      "display_name": "Python 3"
    },
    "language_info": {
      "name": "python"
    }
  },
  "cells": [
    {
      "cell_type": "code",
      "execution_count": 380,
      "metadata": {
        "id": "qSkTs_YSUF4u"
      },
      "outputs": [],
      "source": [
        "import pandas as pd"
      ]
    },
    {
      "cell_type": "code",
      "source": [
        "customers = pd.read_csv('/content/drive/MyDrive/zeotap-data/Customers.csv')\n",
        "transactions = pd.read_csv('/content/drive/MyDrive/zeotap-data/Transactions.csv')"
      ],
      "metadata": {
        "id": "NUT49MqrUQ0A"
      },
      "execution_count": 381,
      "outputs": []
    },
    {
      "cell_type": "code",
      "source": [
        "customers.info()"
      ],
      "metadata": {
        "colab": {
          "base_uri": "https://localhost:8080/"
        },
        "id": "lihtf2mDU6d3",
        "outputId": "068fdffe-e5a2-484e-a30b-5d04d436d68a"
      },
      "execution_count": 382,
      "outputs": [
        {
          "output_type": "stream",
          "name": "stdout",
          "text": [
            "<class 'pandas.core.frame.DataFrame'>\n",
            "RangeIndex: 200 entries, 0 to 199\n",
            "Data columns (total 4 columns):\n",
            " #   Column        Non-Null Count  Dtype \n",
            "---  ------        --------------  ----- \n",
            " 0   CustomerID    200 non-null    object\n",
            " 1   CustomerName  200 non-null    object\n",
            " 2   Region        200 non-null    object\n",
            " 3   SignupDate    200 non-null    object\n",
            "dtypes: object(4)\n",
            "memory usage: 6.4+ KB\n"
          ]
        }
      ]
    },
    {
      "cell_type": "code",
      "source": [
        "transactions.info()"
      ],
      "metadata": {
        "colab": {
          "base_uri": "https://localhost:8080/"
        },
        "id": "nmpTX4HmU-vN",
        "outputId": "25988cd4-ac5a-4a7c-992e-9bd7eff8fb6d"
      },
      "execution_count": 383,
      "outputs": [
        {
          "output_type": "stream",
          "name": "stdout",
          "text": [
            "<class 'pandas.core.frame.DataFrame'>\n",
            "RangeIndex: 1000 entries, 0 to 999\n",
            "Data columns (total 7 columns):\n",
            " #   Column           Non-Null Count  Dtype  \n",
            "---  ------           --------------  -----  \n",
            " 0   TransactionID    1000 non-null   object \n",
            " 1   CustomerID       1000 non-null   object \n",
            " 2   ProductID        1000 non-null   object \n",
            " 3   TransactionDate  1000 non-null   object \n",
            " 4   Quantity         1000 non-null   int64  \n",
            " 5   TotalValue       1000 non-null   float64\n",
            " 6   Price            1000 non-null   float64\n",
            "dtypes: float64(2), int64(1), object(4)\n",
            "memory usage: 54.8+ KB\n"
          ]
        }
      ]
    },
    {
      "cell_type": "code",
      "source": [
        "agg_transactions = transactions.groupby('CustomerID').agg(\n",
        "    total_spending=pd.NamedAgg(column='TotalValue', aggfunc='sum'),\n",
        "    purchase_frequency=pd.NamedAgg(column='TotalValue', aggfunc='count'),\n",
        "    avg_transaction_value=pd.NamedAgg(column='TotalValue', aggfunc='mean')\n",
        ").reset_index()"
      ],
      "metadata": {
        "id": "sYo1Li1nUvNY"
      },
      "execution_count": 384,
      "outputs": []
    },
    {
      "cell_type": "code",
      "source": [
        "customers = pd.merge(customers, agg_transactions, on='CustomerID', how='left')"
      ],
      "metadata": {
        "id": "KaRGOq1jV9J_"
      },
      "execution_count": 385,
      "outputs": []
    },
    {
      "cell_type": "code",
      "source": [
        "customers.columns"
      ],
      "metadata": {
        "colab": {
          "base_uri": "https://localhost:8080/"
        },
        "id": "1nwCVrWSWcX-",
        "outputId": "a01f9bbd-b996-4c57-ca02-bfb3f48f0f8a"
      },
      "execution_count": 386,
      "outputs": [
        {
          "output_type": "execute_result",
          "data": {
            "text/plain": [
              "Index(['CustomerID', 'CustomerName', 'Region', 'SignupDate', 'total_spending',\n",
              "       'purchase_frequency', 'avg_transaction_value'],\n",
              "      dtype='object')"
            ]
          },
          "metadata": {},
          "execution_count": 386
        }
      ]
    },
    {
      "cell_type": "code",
      "source": [
        "customers['SignupDate'] = pd.to_datetime(customers['SignupDate'])\n",
        "customers['SignupMonth'] = customers['SignupDate'].dt.month\n",
        "customers['SignupYear'] = customers['SignupDate'].dt.year"
      ],
      "metadata": {
        "id": "RCuzMGmfVjGX"
      },
      "execution_count": 387,
      "outputs": []
    },
    {
      "cell_type": "code",
      "source": [
        "customers = pd.get_dummies(customers, columns=['Region'], prefix=['Region'], drop_first=True)\n",
        "customers = customers.fillna(0)"
      ],
      "metadata": {
        "id": "O3lr7-xlV2JI"
      },
      "execution_count": 388,
      "outputs": []
    },
    {
      "cell_type": "code",
      "source": [
        "customers.columns"
      ],
      "metadata": {
        "colab": {
          "base_uri": "https://localhost:8080/"
        },
        "id": "9NhZpYI0qM0Z",
        "outputId": "eac963f5-6220-422e-8d03-a21c9df90790"
      },
      "execution_count": 389,
      "outputs": [
        {
          "output_type": "execute_result",
          "data": {
            "text/plain": [
              "Index(['CustomerID', 'CustomerName', 'SignupDate', 'total_spending',\n",
              "       'purchase_frequency', 'avg_transaction_value', 'SignupMonth',\n",
              "       'SignupYear', 'Region_Europe', 'Region_North America',\n",
              "       'Region_South America'],\n",
              "      dtype='object')"
            ]
          },
          "metadata": {},
          "execution_count": 389
        }
      ]
    },
    {
      "cell_type": "code",
      "source": [
        "# print(customers[['total_spending_x', 'total_spending_y']].head())\n",
        "# customers = customers.drop(columns=['total_spending_x', 'purchase_frequency_x', 'avg_transaction_value_x'])\n",
        "\n",
        "# Rename '_y' columns to simpler names\n",
        "customers = customers.rename(columns={\n",
        "    'total_spending_y': 'total_spending',\n",
        "    'purchase_frequency_y': 'purchase_frequency',\n",
        "    'avg_transaction_value_y': 'avg_transaction_value'\n",
        "})"
      ],
      "metadata": {
        "id": "3jkE9rBNXiuT"
      },
      "execution_count": 390,
      "outputs": []
    },
    {
      "cell_type": "code",
      "source": [
        "from sklearn.preprocessing import StandardScaler, RobustScaler\n",
        "from sklearn.impute import SimpleImputer\n",
        "features = ['SignupMonth', 'SignupYear', 'total_spending', 'purchase_frequency', 'avg_transaction_value', 'Region_Europe', 'Region_North America',\n",
        "       'Region_South America']"
      ],
      "metadata": {
        "id": "IB6FA4BFV7-V"
      },
      "execution_count": 391,
      "outputs": []
    },
    {
      "cell_type": "code",
      "source": [
        "# scaler = StandardScaler()\n",
        "imputer = SimpleImputer(strategy='median')\n",
        "customers[features] = imputer.fit_transform(customers[features])"
      ],
      "metadata": {
        "id": "YPAC1KuJW3Gw"
      },
      "execution_count": 392,
      "outputs": []
    },
    {
      "cell_type": "code",
      "source": [
        "scaler = RobustScaler()\n",
        "customers[features] = scaler.fit_transform(customers[features])\n",
        "\n",
        "# scaler = StandardScaler()\n",
        "# customers[features] = scaler.fit_transform(customers[features])"
      ],
      "metadata": {
        "id": "FS9a7c_rcZ2u"
      },
      "execution_count": 393,
      "outputs": []
    },
    {
      "cell_type": "code",
      "source": [
        "customers['spending_frequency'] = customers['total_spending'] * customers['purchase_frequency']\n",
        "customers['avg_spending_ratio'] = customers['total_spending'] / (customers['avg_transaction_value'] + 1e-6)\n",
        "\n",
        "new_features = ['spending_frequency', 'avg_spending_ratio']\n",
        "customers[new_features] = scaler.fit_transform(customers[new_features])\n",
        "features = features + new_features"
      ],
      "metadata": {
        "id": "XkHqYr_Jciv2"
      },
      "execution_count": 394,
      "outputs": []
    },
    {
      "cell_type": "code",
      "source": [
        "from sklearn.cluster import KMeans\n",
        "from sklearn.metrics import davies_bouldin_score, silhouette_score, calinski_harabasz_score\n",
        "\n",
        "kmeans = KMeans(n_clusters=7, random_state=42, n_init=10)\n",
        "customers['Cluster'] = kmeans.fit_predict(customers[features])\n",
        "\n",
        "db_index = davies_bouldin_score(customers[features], customers['Cluster'])\n",
        "silhouette_avg = silhouette_score(customers[features], customers['Cluster'])\n",
        "ch_score = calinski_harabasz_score(customers[features], customers['Cluster'])\n",
        "print(f\"Davies-Bouldin Index: {db_index}\")\n",
        "print(f\"Silhouette Score: {silhouette_avg}\")\n",
        "print(f\"Calinski Harabasz Score: {ch_score}\")"
      ],
      "metadata": {
        "colab": {
          "base_uri": "https://localhost:8080/"
        },
        "id": "9CXLC9T5XO7f",
        "outputId": "70ce2e75-59ce-49af-eddc-5709cd202d46"
      },
      "execution_count": 395,
      "outputs": [
        {
          "output_type": "stream",
          "name": "stdout",
          "text": [
            "Davies-Bouldin Index: 0.2977270201620875\n",
            "Silhouette Score: 0.6221656435765561\n",
            "Calinski Harabasz Score: 77024.83847979835\n"
          ]
        }
      ]
    },
    {
      "cell_type": "code",
      "source": [
        "from sklearn.decomposition import PCA\n",
        "import matplotlib.pyplot as plt\n",
        "from sklearn.manifold import TSNE\n",
        "\n",
        "kmeans = KMeans(n_clusters=3, random_state=42, n_init=40)\n",
        "customers['Cluster'] = kmeans.fit_predict(customers[features])\n",
        "# tsne = TSNE(n_components=2, random_state=42)\n",
        "tsne = TSNE(n_components=2, perplexity=60, learning_rate=600, random_state=42)\n",
        "\n",
        "tsne_features = tsne.fit_transform(customers[features])\n",
        "# pca = PCA(n_components=2)\n",
        "# pca_features = pca.fit_transform(customers[features])\n",
        "region_colors = {\n",
        "    \"Europe\": \"blue\",\n",
        "    \"North America\": \"green\",\n",
        "    \"South America\": \"orange\",\n",
        "}\n",
        "\n",
        "customers['Region_Label'] = customers[['Region_Europe', 'Region_North America', 'Region_South America']].idxmax(axis=1)\n",
        "customers['Region_Label'] = customers['Region_Label'].map({\n",
        "    \"Region_Europe\": \"Europe\",\n",
        "    \"Region_North America\": \"North America\",\n",
        "    \"Region_South America\": \"South America\"\n",
        "})\n",
        "\n",
        "\n",
        "\n",
        "plt.figure(figsize=(12, 8))\n",
        "for region, color in region_colors.items():\n",
        "    subset = customers[customers['Region_Label'] == region]\n",
        "    plt.scatter(tsne_features[subset.index, 0], tsne_features[subset.index, 1], c=color, label=region, s=50)\n",
        "\n",
        "\n",
        "# plt.figure(figsize=(10, 6))\n",
        "# plt.scatter(tsne_features[:, 0], tsne_features[:, 1], c=customers['Cluster'], cmap='viridis', s=50)\n",
        "plt.legend(title=\"Region\")\n",
        "plt.xlabel('TSNE Component 1')\n",
        "plt.ylabel('TSNE Component 2')\n",
        "plt.title('Customer Clusters ')\n",
        "plt.show()\n"
      ],
      "metadata": {
        "colab": {
          "base_uri": "https://localhost:8080/",
          "height": 718
        },
        "id": "vwQiPUqCYD_Y",
        "outputId": "2f2d0d47-96d3-4a05-c216-a450c191c494"
      },
      "execution_count": 396,
      "outputs": [
        {
          "output_type": "display_data",
          "data": {
            "text/plain": [
              "<Figure size 1200x800 with 1 Axes>"
            ],
            "image/png": "[encoded data removed]"
          },
          "metadata": {}
        }
      ]
    },
    {
      "cell_type": "code",
      "source": [],
      "metadata": {
        "id": "hIOkOajwcATb"
      },
      "execution_count": 396,
      "outputs": []
    },
    {
      "cell_type": "code",
      "source": [],
      "metadata": {
        "id": "TomPql4BrnvY"
      },
      "execution_count": 396,
      "outputs": []
    }
  ]
}