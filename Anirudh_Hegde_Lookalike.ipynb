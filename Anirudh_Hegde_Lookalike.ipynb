{
  "nbformat": 4,
  "nbformat_minor": 0,
  "metadata": {
    "colab": {
      "provenance": []
    },
    "kernelspec": {
      "name": "python3",
      "display_name": "Python 3"
    },
    "language_info": {
      "name": "python"
    }
  },
  "cells": [
    {
      "cell_type": "code",
      "execution_count": null,
      "metadata": {
        "id": "bJn-0Vvgh0Dp"
      },
      "outputs": [],
      "source": [
        "import pandas as pd\n",
        "from sklearn.preprocessing import OneHotEncoder, StandardScaler\n",
        "from sklearn.model_selection import train_test_split\n",
        "import numpy as np"
      ]
    },
    {
      "cell_type": "code",
      "source": [
        "customers = pd.read_csv('/content/drive/MyDrive/zeotap-data/Customers.csv')\n",
        "transactions = pd.read_csv('/content/drive/MyDrive/zeotap-data/Transactions.csv')"
      ],
      "metadata": {
        "id": "TbmejIpsibNQ"
      },
      "execution_count": null,
      "outputs": []
    },
    {
      "cell_type": "code",
      "source": [
        "customers.columns"
      ],
      "metadata": {
        "colab": {
          "base_uri": "https://localhost:8080/"
        },
        "id": "6PaHq1uBibgA",
        "outputId": "8cbf9e0a-eea5-404a-abeb-7cb907e886c6"
      },
      "execution_count": null,
      "outputs": [
        {
          "output_type": "execute_result",
          "data": {
            "text/plain": [
              "Index(['CustomerID', 'CustomerName', 'Region', 'SignupDate'], dtype='object')"
            ]
          },
          "metadata": {},
          "execution_count": 222
        }
      ]
    },
    {
      "cell_type": "code",
      "source": [
        "transactions.columns"
      ],
      "metadata": {
        "colab": {
          "base_uri": "https://localhost:8080/"
        },
        "id": "1vhKYA2Kid5M",
        "outputId": "cf4f088c-74ed-4953-9a67-309bc181f74d"
      },
      "execution_count": null,
      "outputs": [
        {
          "output_type": "execute_result",
          "data": {
            "text/plain": [
              "Index(['TransactionID', 'CustomerID', 'ProductID', 'TransactionDate',\n",
              "       'Quantity', 'TotalValue', 'Price'],\n",
              "      dtype='object')"
            ]
          },
          "metadata": {},
          "execution_count": 223
        }
      ]
    },
    {
      "cell_type": "code",
      "source": [
        "encoder = OneHotEncoder(sparse_output=False, handle_unknown='ignore')\n",
        "encoded_region = encoder.fit_transform(customers[['Region']])\n",
        "encoded_region_df = pd.DataFrame(encoded_region, columns=encoder.get_feature_names_out(['Region']))\n",
        "customers = pd.concat([customers, encoded_region_df], axis=1)"
      ],
      "metadata": {
        "id": "0WW-58t4id7b"
      },
      "execution_count": null,
      "outputs": []
    },
    {
      "cell_type": "code",
      "source": [
        "import pandas as pd\n",
        "from sklearn.preprocessing import StandardScaler, RobustScaler\n",
        "from sklearn.metrics.pairwise import cosine_similarity\n",
        "from sklearn.impute import SimpleImputer\n",
        "\n",
        "customers = pd.read_csv('/content/drive/MyDrive/zeotap-data/Customers.csv')\n",
        "transactions = pd.read_csv('/content/drive/MyDrive/zeotap-data/Transactions.csv')\n",
        "\n",
        "agg_transactions = transactions.groupby('CustomerID').agg(\n",
        "    total_spending=pd.NamedAgg(column='TotalValue', aggfunc='sum'),\n",
        "    purchase_frequency=pd.NamedAgg(column='TotalValue', aggfunc='count'),\n",
        "    avg_transaction_value=pd.NamedAgg(column='TotalValue', aggfunc='mean')\n",
        ").reset_index()\n",
        "\n",
        "\n",
        "customers = pd.merge(customers, agg_transactions, on='CustomerID', how='left')\n"
      ],
      "metadata": {
        "id": "2evGNGZeid9w"
      },
      "execution_count": null,
      "outputs": []
    },
    {
      "cell_type": "code",
      "source": [
        "customers['SignupDate'] = pd.to_datetime(customers['SignupDate'])\n",
        "customers['SignupMonth'] = customers['SignupDate'].dt.month\n",
        "customers['SignupYear'] = customers['SignupDate'].dt.year\n",
        "\n",
        "# scaler = StandardScaler()\n",
        "# customers[['SignupMonth', 'SignupYear', 'total_spending', 'purchase_frequency', 'avg_transaction_value']] = scaler.fit_transform(\n",
        "#     customers[['SignupMonth', 'SignupYear', 'total_spending', 'purchase_frequency', 'avg_transaction_value']]\n",
        "# )\n",
        "\n",
        "# imputer = SimpleImputer(strategy='mean')\n",
        "imputer = SimpleImputer(strategy='median')\n",
        "customers[['total_spending', 'purchase_frequency', 'avg_transaction_value']] = imputer.fit_transform(\n",
        "    customers[['total_spending', 'purchase_frequency', 'avg_transaction_value']])\n",
        "# )\n",
        "\n",
        "# scaler = RobustScaler()\n",
        "# customers[['SignupMonth', 'SignupYear', 'total_spending', 'purchase_frequency', 'avg_transaction_value']] = scaler.fit_transform(\n",
        "#     customers[['SignupMonth', 'SignupYear', 'total_spending', 'purchase_frequency', 'avg_transaction_value']])"
      ],
      "metadata": {
        "id": "FjSy7YHPiuW-"
      },
      "execution_count": null,
      "outputs": []
    },
    {
      "cell_type": "code",
      "source": [
        "customers = pd.get_dummies(customers, columns=['Region'], prefix=['Region'])\n",
        "\n",
        "numerical_features = customers.drop(columns=['CustomerID', 'CustomerName', 'SignupDate']).select_dtypes(include=['number'])\n",
        "numerical_features = numerical_features.fillna(numerical_features.mean())\n",
        "similarity_matrix = cosine_similarity(numerical_features)\n",
        "\n",
        "lookalike_map = {}\n",
        "for idx, customer_id in enumerate(customers['CustomerID']):\n",
        "    similarity_scores = list(enumerate(similarity_matrix[idx]))\n",
        "    similarity_scores = sorted(similarity_scores, key=lambda x: x[1], reverse=True)\n",
        "    top_3 = similarity_scores[1:4]\n",
        "\n",
        "    lookalike_map[customer_id] = [(customers.loc[i, 'CustomerID'], round(score, 2)) for i, score in top_3]\n",
        "\n",
        "lookalike_df = pd.DataFrame([\n",
        "    {'Customer_id': cust_id, 'Lookalikes': lookalikes}\n",
        "    for cust_id, lookalikes in lookalike_map.items()\n",
        "])\n",
        "\n",
        "lookalike_df = lookalike_df[lookalike_df['Customer_id'].isin([f\"C{i:04}\" for i in range(1, 21)])]\n",
        "\n",
        "lookalike_df.to_csv(\"Lookalike.csv\", index=False)\n",
        "print(\"Lookalike.csv has been created successfully!\")\n"
      ],
      "metadata": {
        "colab": {
          "base_uri": "https://localhost:8080/"
        },
        "id": "61G9ly9XieAN",
        "outputId": "32cd15be-b544-4003-a19d-32d7204d90fb"
      },
      "execution_count": null,
      "outputs": [
        {
          "output_type": "stream",
          "name": "stdout",
          "text": [
            "Lookalike.csv has been created successfully!\n"
          ]
        }
      ]
    },
    {
      "cell_type": "code",
      "source": [
        "from sklearn.metrics import silhouette_score\n",
        "from sklearn.cluster import KMeans\n",
        "# from sklearn.metrics.pairwise import cosine_similarity"
      ],
      "metadata": {
        "id": "eEfuJ5tPieCp"
      },
      "execution_count": null,
      "outputs": []
    },
    {
      "cell_type": "code",
      "source": [
        "X = customers.drop(columns=['CustomerID', 'CustomerName', 'SignupDate'])\n",
        "X.fillna(X.median(),inplace=True)\n",
        "X.isnull().sum()\n",
        "# X.dropna(inplace=True)\n",
        "X.fillna(X.mean(),inplace=True)\n",
        "# silhouette_score(X, kmeans.labels_\n",
        "# similarity_matrix = cosine_similarity(X)"
      ],
      "metadata": {
        "id": "9G79CHnJieFI"
      },
      "execution_count": null,
      "outputs": []
    },
    {
      "cell_type": "code",
      "source": [
        "n_clusters = 4\n",
        "kmeans = KMeans(n_clusters=n_clusters, random_state=42)\n",
        "customers_labels = kmeans.fit_predict(X)"
      ],
      "metadata": {
        "id": "UhIIlmohieHm"
      },
      "execution_count": null,
      "outputs": []
    },
    {
      "cell_type": "code",
      "source": [
        "silhoutte = silhouette_score(X, customers_labels)\n",
        "print(silhoutte)"
      ],
      "metadata": {
        "colab": {
          "base_uri": "https://localhost:8080/"
        },
        "id": "JJec4W3ZieKD",
        "outputId": "96ca9e87-023e-42dc-b740-60dca911e677"
      },
      "execution_count": null,
      "outputs": [
        {
          "output_type": "stream",
          "name": "stdout",
          "text": [
            "0.49650969937144607\n"
          ]
        }
      ]
    },
    {
      "cell_type": "code",
      "source": [],
      "metadata": {
        "id": "ThzvjGO9ieMT"
      },
      "execution_count": null,
      "outputs": []
    },
    {
      "cell_type": "code",
      "source": [],
      "metadata": {
        "id": "kRvhx4W3iePF"
      },
      "execution_count": null,
      "outputs": []
    }
  ]
}